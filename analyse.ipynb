{
 "cells": [
  {
   "cell_type": "code",
   "execution_count": 1,
   "metadata": {},
   "outputs": [],
   "source": [
    "import pandas as pd\n",
    "import numpy as np\n",
    "import sqlite3\n"
   ]
  },
  {
   "cell_type": "code",
   "execution_count": 4,
   "metadata": {},
   "outputs": [],
   "source": [
    "con=sqlite3.connect(\"ancestrydna.db\")\n",
    "ancestrydna = pd.read_csv(\"AncestryDNA.txt\", sep=\"\\t\", skiprows=18)\n",
    "ancestrydna.to_sql(\"dna\", con=sqlite3.connect(\"ancestrydna.db\"), if_exists='replace')\n",
    "ill_con = pd.read_csv(\"snp_to_summary.csv.\", sep=\";\")\n",
    "ill_con.to_sql(\"SNP_analysis\", con, if_exists='replace')\n",
    "\n",
    "qry='''\n",
    "select\n",
    "c.rsid,\n",
    "c.summary,\n",
    "'https://www.snpedia.com/index.php/' || c.rsid as further_reading_and_source from dna as a left join SNP_analysis as c on\n",
    "a.rsid=c.rsid AND\n",
    "a.allele1=c.allele1 AND\n",
    "a.allele2=c.allele2\n",
    "WHERE summary is not null\n",
    "'''\n",
    "results = con.execute(qry).fetchall()\n",
    "with open(\"results.txt\", \"w\") as f:\n",
    "    for r in results:\n",
    "        f.write(str(r[1])+\";\"+str(r[2])+\"\\n\")"
   ]
  }
 ],
 "metadata": {
  "interpreter": {
   "hash": "8e284ee3255a07ad8bf76694974743c4c81cb57e7c969474d752d949b11d721e"
  },
  "kernelspec": {
   "display_name": "Python 3.9.13 64-bit",
   "language": "python",
   "name": "python3"
  },
  "language_info": {
   "codemirror_mode": {
    "name": "ipython",
    "version": 3
   },
   "file_extension": ".py",
   "mimetype": "text/x-python",
   "name": "python",
   "nbconvert_exporter": "python",
   "pygments_lexer": "ipython3",
   "version": "3.9.13"
  },
  "orig_nbformat": 4
 },
 "nbformat": 4,
 "nbformat_minor": 2
}
